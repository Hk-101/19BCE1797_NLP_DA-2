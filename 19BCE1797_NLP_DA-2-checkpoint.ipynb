{
 "cells": [
  {
   "cell_type": "code",
   "execution_count": 1,
   "id": "8fd665eb",
   "metadata": {},
   "outputs": [
    {
     "name": "stderr",
     "output_type": "stream",
     "text": [
      "[nltk_data] Downloading package punkt to C:\\Users\\harish\n",
      "[nltk_data]     kumaar\\AppData\\Roaming\\nltk_data...\n",
      "[nltk_data]   Unzipping tokenizers\\punkt.zip.\n"
     ]
    },
    {
     "data": {
      "text/plain": [
       "True"
      ]
     },
     "execution_count": 1,
     "metadata": {},
     "output_type": "execute_result"
    }
   ],
   "source": [
    "import nltk\n",
    "from nltk.tokenize import word_tokenize, sent_tokenize\n",
    "nltk.download('punkt')"
   ]
  },
  {
   "cell_type": "code",
   "execution_count": 3,
   "id": "ac205198",
   "metadata": {},
   "outputs": [],
   "source": [
    "sentence = \"Nature, in the broadest sense, is the physical world or universe.Nature can refer to the phenomena of the physical world, and also to life in general. The study of nature is a large, if not the only, part of science. Although humans are part of nature, human activity is often understood as a separate category from other natural phenomena,During the advent of modern scientific method in the last several centuries, nature became the passive reality, organized and moved by divine laws.[5][6] With the Industrial revolution, nature increasingly became seen as the part of reality deprived from intentional intervention: it was hence considered as sacred by some traditions (Rousseau, American transcendentalism) or a mere decorum for divine providence or human history (Hegel, Marx). However, a vitalist vision of nature, closer to the presocratic one, got reborn at the same time, especially after Charles Darwin\"\n"
   ]
  },
  {
   "cell_type": "markdown",
   "id": "ff504608",
   "metadata": {},
   "source": [
    "# Word segmentation\n"
   ]
  },
  {
   "cell_type": "code",
   "execution_count": 4,
   "id": "ecd5da25",
   "metadata": {},
   "outputs": [
    {
     "data": {
      "text/plain": [
       "['Nature',\n",
       " ',',\n",
       " 'in',\n",
       " 'the',\n",
       " 'broadest',\n",
       " 'sense',\n",
       " ',',\n",
       " 'is',\n",
       " 'the',\n",
       " 'physical',\n",
       " 'world',\n",
       " 'or',\n",
       " 'universe.Nature',\n",
       " 'can',\n",
       " 'refer',\n",
       " 'to',\n",
       " 'the',\n",
       " 'phenomena',\n",
       " 'of',\n",
       " 'the',\n",
       " 'physical',\n",
       " 'world',\n",
       " ',',\n",
       " 'and',\n",
       " 'also',\n",
       " 'to',\n",
       " 'life',\n",
       " 'in',\n",
       " 'general',\n",
       " '.',\n",
       " 'The',\n",
       " 'study',\n",
       " 'of',\n",
       " 'nature',\n",
       " 'is',\n",
       " 'a',\n",
       " 'large',\n",
       " ',',\n",
       " 'if',\n",
       " 'not',\n",
       " 'the',\n",
       " 'only',\n",
       " ',',\n",
       " 'part',\n",
       " 'of',\n",
       " 'science',\n",
       " '.',\n",
       " 'Although',\n",
       " 'humans',\n",
       " 'are',\n",
       " 'part',\n",
       " 'of',\n",
       " 'nature',\n",
       " ',',\n",
       " 'human',\n",
       " 'activity',\n",
       " 'is',\n",
       " 'often',\n",
       " 'understood',\n",
       " 'as',\n",
       " 'a',\n",
       " 'separate',\n",
       " 'category',\n",
       " 'from',\n",
       " 'other',\n",
       " 'natural',\n",
       " 'phenomena',\n",
       " ',',\n",
       " 'During',\n",
       " 'the',\n",
       " 'advent',\n",
       " 'of',\n",
       " 'modern',\n",
       " 'scientific',\n",
       " 'method',\n",
       " 'in',\n",
       " 'the',\n",
       " 'last',\n",
       " 'several',\n",
       " 'centuries',\n",
       " ',',\n",
       " 'nature',\n",
       " 'became',\n",
       " 'the',\n",
       " 'passive',\n",
       " 'reality',\n",
       " ',',\n",
       " 'organized',\n",
       " 'and',\n",
       " 'moved',\n",
       " 'by',\n",
       " 'divine',\n",
       " 'laws',\n",
       " '.',\n",
       " '[',\n",
       " '5',\n",
       " ']',\n",
       " '[',\n",
       " '6',\n",
       " ']',\n",
       " 'With',\n",
       " 'the',\n",
       " 'Industrial',\n",
       " 'revolution',\n",
       " ',',\n",
       " 'nature',\n",
       " 'increasingly',\n",
       " 'became',\n",
       " 'seen',\n",
       " 'as',\n",
       " 'the',\n",
       " 'part',\n",
       " 'of',\n",
       " 'reality',\n",
       " 'deprived',\n",
       " 'from',\n",
       " 'intentional',\n",
       " 'intervention',\n",
       " ':',\n",
       " 'it',\n",
       " 'was',\n",
       " 'hence',\n",
       " 'considered',\n",
       " 'as',\n",
       " 'sacred',\n",
       " 'by',\n",
       " 'some',\n",
       " 'traditions',\n",
       " '(',\n",
       " 'Rousseau',\n",
       " ',',\n",
       " 'American',\n",
       " 'transcendentalism',\n",
       " ')',\n",
       " 'or',\n",
       " 'a',\n",
       " 'mere',\n",
       " 'decorum',\n",
       " 'for',\n",
       " 'divine',\n",
       " 'providence',\n",
       " 'or',\n",
       " 'human',\n",
       " 'history',\n",
       " '(',\n",
       " 'Hegel',\n",
       " ',',\n",
       " 'Marx',\n",
       " ')',\n",
       " '.',\n",
       " 'However',\n",
       " ',',\n",
       " 'a',\n",
       " 'vitalist',\n",
       " 'vision',\n",
       " 'of',\n",
       " 'nature',\n",
       " ',',\n",
       " 'closer',\n",
       " 'to',\n",
       " 'the',\n",
       " 'presocratic',\n",
       " 'one',\n",
       " ',',\n",
       " 'got',\n",
       " 'reborn',\n",
       " 'at',\n",
       " 'the',\n",
       " 'same',\n",
       " 'time',\n",
       " ',',\n",
       " 'especially',\n",
       " 'after',\n",
       " 'Charles',\n",
       " 'Darwin']"
      ]
     },
     "execution_count": 4,
     "metadata": {},
     "output_type": "execute_result"
    }
   ],
   "source": [
    "word_tokenize(sentence)"
   ]
  },
  {
   "cell_type": "markdown",
   "id": "c5431b3b",
   "metadata": {},
   "source": [
    "# Sentance Segmentation"
   ]
  },
  {
   "cell_type": "code",
   "execution_count": 5,
   "id": "b51642f7",
   "metadata": {},
   "outputs": [
    {
     "data": {
      "text/plain": [
       "['Nature, in the broadest sense, is the physical world or universe.Nature can refer to the phenomena of the physical world, and also to life in general.',\n",
       " 'The study of nature is a large, if not the only, part of science.',\n",
       " 'Although humans are part of nature, human activity is often understood as a separate category from other natural phenomena,During the advent of modern scientific method in the last several centuries, nature became the passive reality, organized and moved by divine laws.',\n",
       " '[5][6] With the Industrial revolution, nature increasingly became seen as the part of reality deprived from intentional intervention: it was hence considered as sacred by some traditions (Rousseau, American transcendentalism) or a mere decorum for divine providence or human history (Hegel, Marx).',\n",
       " 'However, a vitalist vision of nature, closer to the presocratic one, got reborn at the same time, especially after Charles Darwin']"
      ]
     },
     "execution_count": 5,
     "metadata": {},
     "output_type": "execute_result"
    }
   ],
   "source": [
    "sent_tokenize(sentence)"
   ]
  },
  {
   "cell_type": "markdown",
   "id": "363376e3",
   "metadata": {},
   "source": [
    "# Convert to LowerCase"
   ]
  },
  {
   "cell_type": "code",
   "execution_count": 6,
   "id": "8741e0e2",
   "metadata": {},
   "outputs": [
    {
     "data": {
      "text/plain": [
       "'nature, in the broadest sense, is the physical world or universe.nature can refer to the phenomena of the physical world, and also to life in general. the study of nature is a large, if not the only, part of science. although humans are part of nature, human activity is often understood as a separate category from other natural phenomena,during the advent of modern scientific method in the last several centuries, nature became the passive reality, organized and moved by divine laws.[5][6] with the industrial revolution, nature increasingly became seen as the part of reality deprived from intentional intervention: it was hence considered as sacred by some traditions (rousseau, american transcendentalism) or a mere decorum for divine providence or human history (hegel, marx). however, a vitalist vision of nature, closer to the presocratic one, got reborn at the same time, especially after charles darwin'"
      ]
     },
     "execution_count": 6,
     "metadata": {},
     "output_type": "execute_result"
    }
   ],
   "source": [
    "sentence.lower()"
   ]
  },
  {
   "cell_type": "markdown",
   "id": "feadebb0",
   "metadata": {},
   "source": [
    "# Stop word Removal"
   ]
  },
  {
   "cell_type": "code",
   "execution_count": 7,
   "id": "218e9115",
   "metadata": {},
   "outputs": [
    {
     "name": "stdout",
     "output_type": "stream",
     "text": [
      "{'under', 'whom', 'no', 'should', 'his', 'once', 'what', \"mightn't\", 'my', 'herself', 'through', \"isn't\", 'against', 'mightn', 't', 'they', 'hadn', \"shouldn't\", 'during', 'were', 'a', 'needn', 'you', \"haven't\", 'her', 'having', 'when', 'can', \"don't\", \"didn't\", 'with', 'was', \"wasn't\", 'both', 'own', 'doing', 'do', 'up', 'more', 'ourselves', \"you'd\", 'not', 'further', 'who', 'o', 'shan', 'me', 'because', 'are', 'too', 'before', \"wouldn't\", 'theirs', 'y', 'between', 'about', \"couldn't\", 'we', 'so', 'down', 'below', 'of', 'haven', 'yourselves', 'weren', 'did', \"won't\", 'ain', 'nor', \"weren't\", \"hadn't\", 'it', 'above', 'than', 'ma', 'to', 'am', 'he', 'does', 'this', 'there', \"shan't\", 'won', 'most', 'by', \"you'll\", 'just', 'which', \"mustn't\", \"you've\", 'himself', 've', 'but', 'as', 'i', 'our', 'now', 'wasn', 'ours', 'such', 'off', 'm', 'isn', 'couldn', \"she's\", 'an', 'then', 'is', 'will', 'in', \"doesn't\", 'd', 'for', 's', 'doesn', 'its', 'had', 'and', 'these', 'mustn', 'yourself', 'hers', 'don', 'same', 'from', \"it's\", 'him', 'other', 'how', \"that'll\", 'into', 'until', 'only', \"you're\", 're', 'yours', 'or', 'shouldn', 'here', 'that', 'over', 'have', 'itself', 'very', 'she', 'been', 'hasn', 'your', 'few', 'again', 'all', 'has', 'if', 'being', \"needn't\", 'at', 'myself', 'out', \"aren't\", 'll', 'on', 'themselves', \"hasn't\", 'aren', 'after', 'their', \"should've\", 'didn', 'be', 'why', 'each', 'them', 'the', 'where', 'some', 'while', 'those', 'any', 'wouldn'}\n"
     ]
    }
   ],
   "source": [
    "from nltk.corpus import stopwords\n",
    "from token import *\n",
    "stop_words = set(stopwords.words('english'))\n",
    "print(stop_words)"
   ]
  },
  {
   "cell_type": "code",
   "execution_count": 8,
   "id": "9b20c71b",
   "metadata": {},
   "outputs": [
    {
     "name": "stdout",
     "output_type": "stream",
     "text": [
      "['Nature', ',', 'broadest', 'sense', ',', 'physical', 'world', 'universe.Nature', 'refer', 'phenomena', 'physical', 'world', ',', 'also', 'life', 'general', '.', 'The', 'study', 'nature', 'large', ',', ',', 'part', 'science', '.', 'Although', 'humans', 'part', 'nature', ',', 'human', 'activity', 'often', 'understood', 'separate', 'category', 'natural', 'phenomena', ',', 'During', 'advent', 'modern', 'scientific', 'method', 'last', 'several', 'centuries', ',', 'nature', 'became', 'passive', 'reality', ',', 'organized', 'moved', 'divine', 'laws', '.', '[', '5', ']', '[', '6', ']', 'With', 'Industrial', 'revolution', ',', 'nature', 'increasingly', 'became', 'seen', 'part', 'reality', 'deprived', 'intentional', 'intervention', ':', 'hence', 'considered', 'sacred', 'traditions', '(', 'Rousseau', ',', 'American', 'transcendentalism', ')', 'mere', 'decorum', 'divine', 'providence', 'human', 'history', '(', 'Hegel', ',', 'Marx', ')', '.', 'However', ',', 'vitalist', 'vision', 'nature', ',', 'closer', 'presocratic', 'one', ',', 'got', 'reborn', 'time', ',', 'especially', 'Charles', 'Darwin']\n"
     ]
    }
   ],
   "source": [
    "word_tokens = word_tokenize(sentence)\n",
    "stopword_removal = [word for word in word_tokens if word not in stop_words]\n",
    "stopword = stopwords.words('english')\n",
    "print(stopword_removal)"
   ]
  },
  {
   "cell_type": "markdown",
   "id": "d58e820a",
   "metadata": {},
   "source": [
    "# Stemming"
   ]
  },
  {
   "cell_type": "code",
   "execution_count": 9,
   "id": "2e44bb1a",
   "metadata": {},
   "outputs": [
    {
     "name": "stdout",
     "output_type": "stream",
     "text": [
      "['natur', ',', 'in', 'the', 'broadest', 'sens', ',', 'is', 'the', 'physic', 'world', 'or', 'universe.natur', 'can', 'refer', 'to', 'the', 'phenomena', 'of', 'the', 'physic', 'world', ',', 'and', 'also', 'to', 'life', 'in', 'general', '.', 'the', 'studi', 'of', 'natur', 'is', 'a', 'larg', ',', 'if', 'not', 'the', 'onli', ',', 'part', 'of', 'scienc', '.', 'although', 'human', 'are', 'part', 'of', 'natur', ',', 'human', 'activ', 'is', 'often', 'understood', 'as', 'a', 'separ', 'categori', 'from', 'other', 'natur', 'phenomena', ',', 'dure', 'the', 'advent', 'of', 'modern', 'scientif', 'method', 'in', 'the', 'last', 'sever', 'centuri', ',', 'natur', 'becam', 'the', 'passiv', 'realiti', ',', 'organ', 'and', 'move', 'by', 'divin', 'law', '.', '[', '5', ']', '[', '6', ']', 'with', 'the', 'industri', 'revolut', ',', 'natur', 'increas', 'becam', 'seen', 'as', 'the', 'part', 'of', 'realiti', 'depriv', 'from', 'intent', 'intervent', ':', 'it', 'was', 'henc', 'consid', 'as', 'sacr', 'by', 'some', 'tradit', '(', 'rousseau', ',', 'american', 'transcendent', ')', 'or', 'a', 'mere', 'decorum', 'for', 'divin', 'provid', 'or', 'human', 'histori', '(', 'hegel', ',', 'marx', ')', '.', 'howev', ',', 'a', 'vitalist', 'vision', 'of', 'natur', ',', 'closer', 'to', 'the', 'presocrat', 'one', ',', 'got', 'reborn', 'at', 'the', 'same', 'time', ',', 'especi', 'after', 'charl', 'darwin']\n"
     ]
    }
   ],
   "source": [
    "from nltk.stem import SnowballStemmer\n",
    "stopword = stopwords.words('english')\n",
    "snowball_stemmer = SnowballStemmer('english')\n",
    "word_tokens = nltk.word_tokenize(sentence)\n",
    "stem = [snowball_stemmer.stem(word) for word in word_tokens]\n",
    "print(stem)"
   ]
  },
  {
   "cell_type": "markdown",
   "id": "e1d4ca6d",
   "metadata": {},
   "source": [
    "# Lemmatization"
   ]
  },
  {
   "cell_type": "code",
   "execution_count": 11,
   "id": "651402fa",
   "metadata": {},
   "outputs": [
    {
     "name": "stderr",
     "output_type": "stream",
     "text": [
      "[nltk_data] Downloading package wordnet to C:\\Users\\harish\n",
      "[nltk_data]     kumaar\\AppData\\Roaming\\nltk_data...\n",
      "[nltk_data]   Package wordnet is already up-to-date!\n",
      "[nltk_data] Downloading package omw-1.4 to C:\\Users\\harish\n",
      "[nltk_data]     kumaar\\AppData\\Roaming\\nltk_data...\n",
      "[nltk_data]   Package omw-1.4 is already up-to-date!\n",
      "[nltk_data] Downloading package averaged_perceptron_tagger to\n",
      "[nltk_data]     C:\\Users\\harish kumaar\\AppData\\Roaming\\nltk_data...\n",
      "[nltk_data]   Package averaged_perceptron_tagger is already up-to-\n",
      "[nltk_data]       date!\n"
     ]
    },
    {
     "name": "stdout",
     "output_type": "stream",
     "text": [
      "['Nature', ',', 'in', 'the', 'broadest', 'sense', ',', 'is', 'the', 'physical', 'world', 'or', 'universe.Nature', 'can', 'refer', 'to', 'the', 'phenomenon', 'of', 'the', 'physical', 'world', ',', 'and', 'also', 'to', 'life', 'in', 'general', '.', 'The', 'study', 'of', 'nature', 'is', 'a', 'large', ',', 'if', 'not', 'the', 'only', ',', 'part', 'of', 'science', '.', 'Although', 'human', 'are', 'part', 'of', 'nature', ',', 'human', 'activity', 'is', 'often', 'understood', 'a', 'a', 'separate', 'category', 'from', 'other', 'natural', 'phenomenon', ',', 'During', 'the', 'advent', 'of', 'modern', 'scientific', 'method', 'in', 'the', 'last', 'several', 'century', ',', 'nature', 'became', 'the', 'passive', 'reality', ',', 'organized', 'and', 'moved', 'by', 'divine', 'law', '.', '[', '5', ']', '[', '6', ']', 'With', 'the', 'Industrial', 'revolution', ',', 'nature', 'increasingly', 'became', 'seen', 'a', 'the', 'part', 'of', 'reality', 'deprived', 'from', 'intentional', 'intervention', ':', 'it', 'wa', 'hence', 'considered', 'a', 'sacred', 'by', 'some', 'tradition', '(', 'Rousseau', ',', 'American', 'transcendentalism', ')', 'or', 'a', 'mere', 'decorum', 'for', 'divine', 'providence', 'or', 'human', 'history', '(', 'Hegel', ',', 'Marx', ')', '.', 'However', ',', 'a', 'vitalist', 'vision', 'of', 'nature', ',', 'closer', 'to', 'the', 'presocratic', 'one', ',', 'got', 'reborn', 'at', 'the', 'same', 'time', ',', 'especially', 'after', 'Charles', 'Darwin']\n"
     ]
    }
   ],
   "source": [
    "from nltk.stem import WordNetLemmatizer\n",
    "nltk.download('wordnet')\n",
    "nltk.download('omw-1.4')\n",
    "nltk.download('averaged_perceptron_tagger')\n",
    "\n",
    "stopword = stopwords.words('english')\n",
    "wordnet_lemmatizer = WordNetLemmatizer()\n",
    "word_tokens = nltk.word_tokenize(sentence)\n",
    "lemmatization = [wordnet_lemmatizer.lemmatize(word) for word in word_tokens]\n",
    "print(lemmatization)"
   ]
  },
  {
   "cell_type": "markdown",
   "id": "0f05ac4e",
   "metadata": {},
   "source": [
    "# Parts of speech tagging"
   ]
  },
  {
   "cell_type": "code",
   "execution_count": 12,
   "id": "a6a6293b",
   "metadata": {},
   "outputs": [
    {
     "name": "stdout",
     "output_type": "stream",
     "text": [
      "[('Nature', 'NN'), (',', ','), ('in', 'IN'), ('the', 'DT'), ('broadest', 'JJS'), ('sense', 'NN'), (',', ','), ('is', 'VBZ'), ('the', 'DT'), ('physical', 'JJ'), ('world', 'NN'), ('or', 'CC'), ('universe.Nature', 'NN'), ('can', 'MD'), ('refer', 'VB'), ('to', 'TO'), ('the', 'DT'), ('phenomena', 'NN'), ('of', 'IN'), ('the', 'DT'), ('physical', 'JJ'), ('world', 'NN'), (',', ','), ('and', 'CC'), ('also', 'RB'), ('to', 'TO'), ('life', 'NN'), ('in', 'IN'), ('general', 'JJ'), ('.', '.'), ('The', 'DT'), ('study', 'NN'), ('of', 'IN'), ('nature', 'NN'), ('is', 'VBZ'), ('a', 'DT'), ('large', 'JJ'), (',', ','), ('if', 'IN'), ('not', 'RB'), ('the', 'DT'), ('only', 'RB'), (',', ','), ('part', 'NN'), ('of', 'IN'), ('science', 'NN'), ('.', '.'), ('Although', 'IN'), ('humans', 'NNS'), ('are', 'VBP'), ('part', 'NN'), ('of', 'IN'), ('nature', 'NN'), (',', ','), ('human', 'JJ'), ('activity', 'NN'), ('is', 'VBZ'), ('often', 'RB'), ('understood', 'JJ'), ('as', 'IN'), ('a', 'DT'), ('separate', 'JJ'), ('category', 'NN'), ('from', 'IN'), ('other', 'JJ'), ('natural', 'JJ'), ('phenomena', 'NNS'), (',', ','), ('During', 'IN'), ('the', 'DT'), ('advent', 'NN'), ('of', 'IN'), ('modern', 'JJ'), ('scientific', 'JJ'), ('method', 'NN'), ('in', 'IN'), ('the', 'DT'), ('last', 'JJ'), ('several', 'JJ'), ('centuries', 'NNS'), (',', ','), ('nature', 'NN'), ('became', 'VBD'), ('the', 'DT'), ('passive', 'JJ'), ('reality', 'NN'), (',', ','), ('organized', 'VBN'), ('and', 'CC'), ('moved', 'VBN'), ('by', 'IN'), ('divine', 'NN'), ('laws', 'NNS'), ('.', '.'), ('[', '$'), ('5', 'CD'), (']', 'NNP'), ('[', 'VBD'), ('6', 'CD'), (']', 'NN'), ('With', 'IN'), ('the', 'DT'), ('Industrial', 'NNP'), ('revolution', 'NN'), (',', ','), ('nature', 'JJ'), ('increasingly', 'RB'), ('became', 'VBD'), ('seen', 'VBN'), ('as', 'IN'), ('the', 'DT'), ('part', 'NN'), ('of', 'IN'), ('reality', 'NN'), ('deprived', 'VBN'), ('from', 'IN'), ('intentional', 'JJ'), ('intervention', 'NN'), (':', ':'), ('it', 'PRP'), ('was', 'VBD'), ('hence', 'RB'), ('considered', 'VBN'), ('as', 'IN'), ('sacred', 'VBN'), ('by', 'IN'), ('some', 'DT'), ('traditions', 'NNS'), ('(', '('), ('Rousseau', 'NNP'), (',', ','), ('American', 'NNP'), ('transcendentalism', 'NN'), (')', ')'), ('or', 'CC'), ('a', 'DT'), ('mere', 'JJ'), ('decorum', 'NN'), ('for', 'IN'), ('divine', 'JJ'), ('providence', 'NN'), ('or', 'CC'), ('human', 'JJ'), ('history', 'NN'), ('(', '('), ('Hegel', 'NNP'), (',', ','), ('Marx', 'NNP'), (')', ')'), ('.', '.'), ('However', 'RB'), (',', ','), ('a', 'DT'), ('vitalist', 'JJ'), ('vision', 'NN'), ('of', 'IN'), ('nature', 'NN'), (',', ','), ('closer', 'JJR'), ('to', 'TO'), ('the', 'DT'), ('presocratic', 'JJ'), ('one', 'CD'), (',', ','), ('got', 'VBD'), ('reborn', 'VBN'), ('at', 'IN'), ('the', 'DT'), ('same', 'JJ'), ('time', 'NN'), (',', ','), ('especially', 'RB'), ('after', 'IN'), ('Charles', 'NNP'), ('Darwin', 'NNP')]\n"
     ]
    }
   ],
   "source": [
    "words_tagging = nltk.word_tokenize(sentence)\n",
    "pos_tagging = nltk.pos_tag(words_tagging)\n",
    "print(pos_tagging)"
   ]
  },
  {
   "cell_type": "code",
   "execution_count": null,
   "id": "2680452f",
   "metadata": {},
   "outputs": [],
   "source": []
  }
 ],
 "metadata": {
  "kernelspec": {
   "display_name": "Python 3",
   "language": "python",
   "name": "python3"
  },
  "language_info": {
   "codemirror_mode": {
    "name": "ipython",
    "version": 3
   },
   "file_extension": ".py",
   "mimetype": "text/x-python",
   "name": "python",
   "nbconvert_exporter": "python",
   "pygments_lexer": "ipython3",
   "version": "3.8.8"
  }
 },
 "nbformat": 4,
 "nbformat_minor": 5
}
